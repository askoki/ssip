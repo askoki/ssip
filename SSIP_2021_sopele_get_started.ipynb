{
  "nbformat": 4,
  "nbformat_minor": 0,
  "metadata": {
    "colab": {
      "name": "SSIP_2021_sopele_get_started.ipynb",
      "provenance": [],
      "collapsed_sections": [],
      "authorship_tag": "ABX9TyN5/TCtShZd3o1P361zK/Wn",
      "include_colab_link": true
    },
    "kernelspec": {
      "name": "python3",
      "display_name": "Python 3"
    },
    "language_info": {
      "name": "python"
    },
    "accelerator": "GPU"
  },
  "cells": [
    {
      "cell_type": "markdown",
      "metadata": {
        "id": "view-in-github",
        "colab_type": "text"
      },
      "source": [
        "<a href=\"https://colab.research.google.com/github/askoki/ssip/blob/main/SSIP_2021_sopele_get_started.ipynb\" target=\"_parent\"><img src=\"https://colab.research.google.com/assets/colab-badge.svg\" alt=\"Open In Colab\"/></a>"
      ]
    },
    {
      "cell_type": "markdown",
      "metadata": {
        "id": "Hp7EgDIZkJOZ"
      },
      "source": [
        "# Sopela Transcriptor"
      ]
    },
    {
      "cell_type": "markdown",
      "metadata": {
        "id": "9VPjW2DfkOfJ"
      },
      "source": [
        "## Requirements & Download"
      ]
    },
    {
      "cell_type": "code",
      "metadata": {
        "id": "2G5qozK0nxHg",
        "colab": {
          "base_uri": "https://localhost:8080/"
        },
        "outputId": "2412afe7-afea-4b5b-c37d-0e9110aebb40"
      },
      "source": [
        "%tensorflow_version 1.x\n",
        "import tensorflow as tf"
      ],
      "execution_count": 1,
      "outputs": [
        {
          "output_type": "stream",
          "text": [
            "TensorFlow 1.x selected.\n"
          ],
          "name": "stdout"
        }
      ]
    },
    {
      "cell_type": "code",
      "metadata": {
        "id": "2SKgn3BIlFIQ"
      },
      "source": [
        "import os\n",
        "import sys\n",
        "import subprocess\n",
        "from google_drive_downloader import GoogleDriveDownloader as gdd"
      ],
      "execution_count": 2,
      "outputs": []
    },
    {
      "cell_type": "code",
      "metadata": {
        "id": "GGQqkBBHlIvS",
        "colab": {
          "base_uri": "https://localhost:8080/"
        },
        "outputId": "a119945e-5a83-4d2a-a14c-54f6c24fe64c"
      },
      "source": [
        "FILE_ID = '16aSrUpcqdVUy0ReHNa1MlJYKwMMchBZP'\n",
        "PROCESSED_DATA_DIR = 'processed'\n",
        "gdd.download_file_from_google_drive(\n",
        "    file_id=FILE_ID,\n",
        "    dest_path=os.path.join(PROCESSED_DATA_DIR, 'data.zip'),\n",
        "    unzip=True\n",
        ")\n",
        "\n",
        "print(\"Removing downloaded zip file ...\")\n",
        "os.remove(os.path.join(PROCESSED_DATA_DIR, 'data.zip'))"
      ],
      "execution_count": 3,
      "outputs": [
        {
          "output_type": "stream",
          "text": [
            "Downloading 16aSrUpcqdVUy0ReHNa1MlJYKwMMchBZP into processed/data.zip... Done.\n",
            "Unzipping...Done.\n",
            "Removing downloaded zip file ...\n"
          ],
          "name": "stdout"
        }
      ]
    },
    {
      "cell_type": "code",
      "metadata": {
        "colab": {
          "base_uri": "https://localhost:8080/",
          "height": 732
        },
        "id": "vZ6Fd1LV_U-t",
        "outputId": "1b479ac2-0265-4b4e-da94-8da36593da67"
      },
      "source": [
        "!pip install pydub\n",
        "!pip install keras-metrics\n",
        "!pip install 'h5py==2.10.0' --force-reinstall"
      ],
      "execution_count": 4,
      "outputs": [
        {
          "output_type": "stream",
          "text": [
            "Requirement already satisfied: pydub in /usr/local/lib/python3.7/dist-packages (0.25.1)\n",
            "Requirement already satisfied: keras-metrics in /usr/local/lib/python3.7/dist-packages (1.1.0)\n",
            "Requirement already satisfied: Keras>=2.1.5 in /tensorflow-1.15.2/python3.7 (from keras-metrics) (2.3.1)\n",
            "Requirement already satisfied: keras-preprocessing>=1.0.5 in /usr/local/lib/python3.7/dist-packages (from Keras>=2.1.5->keras-metrics) (1.1.2)\n",
            "Requirement already satisfied: numpy>=1.9.1 in /usr/local/lib/python3.7/dist-packages (from Keras>=2.1.5->keras-metrics) (1.21.0)\n",
            "Requirement already satisfied: scipy>=0.14 in /usr/local/lib/python3.7/dist-packages (from Keras>=2.1.5->keras-metrics) (1.4.1)\n",
            "Requirement already satisfied: six>=1.9.0 in /usr/local/lib/python3.7/dist-packages (from Keras>=2.1.5->keras-metrics) (1.16.0)\n",
            "Requirement already satisfied: keras-applications>=1.0.6 in /tensorflow-1.15.2/python3.7 (from Keras>=2.1.5->keras-metrics) (1.0.8)\n",
            "Requirement already satisfied: pyyaml in /usr/local/lib/python3.7/dist-packages (from Keras>=2.1.5->keras-metrics) (3.13)\n",
            "Requirement already satisfied: h5py in /usr/local/lib/python3.7/dist-packages (from Keras>=2.1.5->keras-metrics) (2.10.0)\n",
            "Collecting h5py==2.10.0\n",
            "  Using cached https://files.pythonhosted.org/packages/3f/c0/abde58b837e066bca19a3f7332d9d0493521d7dd6b48248451a9e3fe2214/h5py-2.10.0-cp37-cp37m-manylinux1_x86_64.whl\n",
            "Collecting numpy>=1.7\n",
            "  Using cached https://files.pythonhosted.org/packages/3f/03/c3526fb4e79a793498829ca570f2f868204ad9a8040afcd72d82a8f121db/numpy-1.21.0-cp37-cp37m-manylinux_2_12_x86_64.manylinux2010_x86_64.whl\n",
            "Collecting six\n",
            "  Using cached https://files.pythonhosted.org/packages/d9/5a/e7c31adbe875f2abbb91bd84cf2dc52d792b5a01506781dbcf25c91daf11/six-1.16.0-py2.py3-none-any.whl\n",
            "\u001b[31mERROR: lucid 0.3.10 requires umap-learn, which is not installed.\u001b[0m\n",
            "\u001b[31mERROR: tensorflow 1.15.2 has requirement gast==0.2.2, but you'll have gast 0.4.0 which is incompatible.\u001b[0m\n",
            "\u001b[31mERROR: lucid 0.3.10 has requirement numpy<=1.19, but you'll have numpy 1.21.0 which is incompatible.\u001b[0m\n",
            "\u001b[31mERROR: kapre 0.3.5 has requirement tensorflow>=2.0.0, but you'll have tensorflow 1.15.2 which is incompatible.\u001b[0m\n",
            "\u001b[31mERROR: google-colab 1.0.0 has requirement six~=1.15.0, but you'll have six 1.16.0 which is incompatible.\u001b[0m\n",
            "\u001b[31mERROR: datascience 0.10.6 has requirement folium==0.2.1, but you'll have folium 0.8.3 which is incompatible.\u001b[0m\n",
            "\u001b[31mERROR: albumentations 0.1.12 has requirement imgaug<0.2.7,>=0.2.5, but you'll have imgaug 0.2.9 which is incompatible.\u001b[0m\n",
            "Installing collected packages: numpy, six, h5py\n",
            "  Found existing installation: numpy 1.21.0\n",
            "    Uninstalling numpy-1.21.0:\n",
            "      Successfully uninstalled numpy-1.21.0\n",
            "  Found existing installation: six 1.16.0\n",
            "    Uninstalling six-1.16.0:\n",
            "      Successfully uninstalled six-1.16.0\n",
            "  Found existing installation: h5py 2.10.0\n",
            "    Uninstalling h5py-2.10.0:\n",
            "      Successfully uninstalled h5py-2.10.0\n",
            "Successfully installed h5py-2.10.0 numpy-1.21.0 six-1.16.0\n"
          ],
          "name": "stdout"
        },
        {
          "output_type": "display_data",
          "data": {
            "application/vnd.colab-display-data+json": {
              "pip_warning": {
                "packages": [
                  "h5py",
                  "numpy",
                  "six"
                ]
              }
            }
          },
          "metadata": {
            "tags": []
          }
        }
      ]
    },
    {
      "cell_type": "markdown",
      "metadata": {
        "id": "pMvfokgT_x8c"
      },
      "source": [
        "### Helper functions"
      ]
    },
    {
      "cell_type": "code",
      "metadata": {
        "id": "kuZn-H6WtZEs"
      },
      "source": [
        "import errno"
      ],
      "execution_count": 5,
      "outputs": []
    },
    {
      "cell_type": "code",
      "metadata": {
        "id": "Oo_jGuOh_0tS"
      },
      "source": [
        "def clear_dir(clear_path):\n",
        "    \"\"\"\n",
        "    clear_path - delete all contents of a folder in given path\n",
        "    \"\"\"\n",
        "    for root, dirs, files in os.walk(clear_path):\n",
        "        for f in files:\n",
        "            os.unlink(os.path.join(root, f))\n",
        "        for d in dirs:\n",
        "            shutil.rmtree(os.path.join(root, d))"
      ],
      "execution_count": 6,
      "outputs": []
    },
    {
      "cell_type": "code",
      "metadata": {
        "id": "fnWyW_wL_3Ae"
      },
      "source": [
        "def create_directory(directory_path):\n",
        "    \"\"\"\n",
        "    directory_path - path and name of directory to be created\n",
        "    \"\"\"\n",
        "    try:\n",
        "        os.makedirs(directory_path)\n",
        "    except OSError as e:\n",
        "        if e.errno != errno.EEXIST:\n",
        "            raise"
      ],
      "execution_count": 7,
      "outputs": []
    },
    {
      "cell_type": "markdown",
      "metadata": {
        "id": "z-mkfOA911H3"
      },
      "source": [
        "## Training"
      ]
    },
    {
      "cell_type": "markdown",
      "metadata": {
        "id": "hfl0JVY5BCuG"
      },
      "source": [
        "### Helper functions"
      ]
    },
    {
      "cell_type": "code",
      "metadata": {
        "id": "xKzfKS4l7hUi"
      },
      "source": [
        "def get_train_data():\n",
        "    \"\"\"\n",
        "    model_name -> string representing processed folder in which\n",
        "    processed data is located.\n",
        "\n",
        "    Returns tuple containing features and labels for train data.\n",
        "    \"\"\"\n",
        "    file = h5py.File(os.path.join(\n",
        "        PROCESSED_DATA_DIR, 'processed_data.hdf5'), 'r')\n",
        "\n",
        "    return (\n",
        "        file['x_train'],\n",
        "        file['y_train'],\n",
        "    )"
      ],
      "execution_count": 8,
      "outputs": []
    },
    {
      "cell_type": "markdown",
      "metadata": {
        "id": "HJd3fzG9BH32"
      },
      "source": [
        "### 1. Model"
      ]
    },
    {
      "cell_type": "code",
      "metadata": {
        "id": "DvzYily_BVLb",
        "colab": {
          "base_uri": "https://localhost:8080/"
        },
        "outputId": "7ed7dabb-370c-48da-b942-72c870e900c3"
      },
      "source": [
        "from keras.models import Sequential\n",
        "from keras.layers import Dense, Dropout, Flatten\n",
        "from keras.layers import Conv1D, MaxPooling1D, Input\n",
        "\n",
        "\n",
        "def get_model(input_shape, num_classes, cnn_layers=1,\n",
        "              num_filters=16, filter_size=3, hidden_layers=64):\n",
        "    \"\"\"\n",
        "    return keras model (used in training and prediction)\n",
        "    input_shape -> tuple containing targeted size (rows, cols)\n",
        "    num_classes -> integer containing number of classes\n",
        "    \"\"\"\n",
        "    model = Sequential()\n",
        "    # cnn_layers 1, num_filters 64, filter size 3, hidden layers 64 -> fails\n",
        "    if num_filters >= 64:\n",
        "        first_layer = 32\n",
        "    else:\n",
        "        first_layer = num_filters\n",
        "\n",
        "    model.add(Conv1D(\n",
        "        first_layer,\n",
        "        kernel_size=filter_size,\n",
        "        activation='relu',\n",
        "        input_shape=input_shape\n",
        "    ))\n",
        "\n",
        "    model.add(MaxPooling1D(2))\n",
        "    for layers in range(cnn_layers - 1):\n",
        "        model.add(Conv1D(num_filters, filter_size, activation='relu'))\n",
        "        model.add(MaxPooling1D(2))\n",
        "    model.add(Dropout(0.25))\n",
        "    model.add(Flatten())\n",
        "    model.add(Dense(hidden_layers, activation='relu'))\n",
        "    model.add(Dropout(0.5))\n",
        "    # softmax predicts 1 of many classes\n",
        "    # sigmoid is used both binary and multi-label classification problems,\n",
        "    # where multiple classes might be 1 in the output\n",
        "    model.add(Dense(num_classes, activation='softmax'))\n",
        "\n",
        "    return model"
      ],
      "execution_count": 9,
      "outputs": [
        {
          "output_type": "stream",
          "text": [
            "Using TensorFlow backend.\n"
          ],
          "name": "stderr"
        }
      ]
    },
    {
      "cell_type": "markdown",
      "metadata": {
        "id": "8XdZFxdNBYdc"
      },
      "source": [
        "### 2. Training start"
      ]
    },
    {
      "cell_type": "code",
      "metadata": {
        "colab": {
          "base_uri": "https://localhost:8080/"
        },
        "id": "K59CIzTo1rDg",
        "outputId": "83622fcf-52e0-484e-8fa9-9641be4c5c5d"
      },
      "source": [
        "import os\n",
        "import sys\n",
        "import datetime\n",
        "import h5py\n",
        "import numpy as np\n",
        "import keras\n",
        "from keras_metrics import precision, recall\n",
        "\n",
        "ML_MODEL = 'cnn'\n",
        "\n",
        "params = {\n",
        "    'layers': 2,\n",
        "    'filters': 32,\n",
        "    'filter_size': 5,\n",
        "    'hidden_layers': 128\n",
        "}\n",
        "num_classes = 13\n",
        "\n",
        "batch_size = 100\n",
        "epochs = 12\n",
        "\n",
        "x_train, y_train = get_train_data()\n",
        "# We're not going to use the whole dataset\n",
        "keep_value = 5000\n",
        "x_train = x_train[:keep_value]\n",
        "y_train = y_train[:keep_value]\n",
        "n_rows, n_cols = x_train.shape\n",
        "print(x_train.shape)"
      ],
      "execution_count": 10,
      "outputs": [
        {
          "output_type": "stream",
          "text": [
            "(5000, 441)\n"
          ],
          "name": "stdout"
        }
      ]
    },
    {
      "cell_type": "code",
      "metadata": {
        "id": "25WxCvtQGrM6"
      },
      "source": [
        "x_train = np.expand_dims(x_train, axis=2)\n",
        "y_train = keras.utils.to_categorical(\n",
        "    y_train, num_classes=num_classes\n",
        ")"
      ],
      "execution_count": 11,
      "outputs": []
    },
    {
      "cell_type": "code",
      "metadata": {
        "colab": {
          "base_uri": "https://localhost:8080/"
        },
        "id": "z82hM-kNF-yX",
        "outputId": "92845026-7c4a-4379-aa1a-a5b4d8cdb1ad"
      },
      "source": [
        "validation_split = 0.2\n",
        "\n",
        "print(\n",
        "    f\"Cnn layers {params['layers']}, \\\n",
        "    num_filters {params['filters']}, \\\n",
        "    filter size {params['filter_size']}, \\\n",
        "    hidden layers {params['hidden_layers']}\"\n",
        ")"
      ],
      "execution_count": 12,
      "outputs": [
        {
          "output_type": "stream",
          "text": [
            "Cnn layers 2,     num_filters 32,     filter size 5,     hidden layers 128\n"
          ],
          "name": "stdout"
        }
      ]
    },
    {
      "cell_type": "code",
      "metadata": {
        "id": "OZlRz0338EeL",
        "colab": {
          "base_uri": "https://localhost:8080/"
        },
        "outputId": "22057bf2-1463-49a4-c49f-7824eaf415cd"
      },
      "source": [
        "model = get_model(\n",
        "    (n_cols, 1),\n",
        "    num_classes,\n",
        "    cnn_layers=params['layers'],\n",
        "    num_filters=params['filters'],\n",
        "    filter_size=params['filter_size'],\n",
        "    hidden_layers=params['hidden_layers']\n",
        ")\n",
        "model.summary()\n",
        "\n",
        "model.compile(\n",
        "    loss=keras.losses.categorical_crossentropy,\n",
        "    optimizer=keras.optimizers.Adadelta(),\n",
        "    metrics=['accuracy', precision(), recall()]\n",
        ")"
      ],
      "execution_count": 13,
      "outputs": [
        {
          "output_type": "stream",
          "text": [
            "WARNING:tensorflow:From /tensorflow-1.15.2/python3.7/tensorflow_core/python/ops/resource_variable_ops.py:1630: calling BaseResourceVariable.__init__ (from tensorflow.python.ops.resource_variable_ops) with constraint is deprecated and will be removed in a future version.\n",
            "Instructions for updating:\n",
            "If using Keras pass *_constraint arguments to layers.\n",
            "WARNING:tensorflow:From /tensorflow-1.15.2/python3.7/keras/backend/tensorflow_backend.py:4070: The name tf.nn.max_pool is deprecated. Please use tf.nn.max_pool2d instead.\n",
            "\n",
            "Model: \"sequential_1\"\n",
            "_________________________________________________________________\n",
            "Layer (type)                 Output Shape              Param #   \n",
            "=================================================================\n",
            "conv1d_1 (Conv1D)            (None, 437, 32)           192       \n",
            "_________________________________________________________________\n",
            "max_pooling1d_1 (MaxPooling1 (None, 218, 32)           0         \n",
            "_________________________________________________________________\n",
            "conv1d_2 (Conv1D)            (None, 214, 32)           5152      \n",
            "_________________________________________________________________\n",
            "max_pooling1d_2 (MaxPooling1 (None, 107, 32)           0         \n",
            "_________________________________________________________________\n",
            "dropout_1 (Dropout)          (None, 107, 32)           0         \n",
            "_________________________________________________________________\n",
            "flatten_1 (Flatten)          (None, 3424)              0         \n",
            "_________________________________________________________________\n",
            "dense_1 (Dense)              (None, 128)               438400    \n",
            "_________________________________________________________________\n",
            "dropout_2 (Dropout)          (None, 128)               0         \n",
            "_________________________________________________________________\n",
            "dense_2 (Dense)              (None, 13)                1677      \n",
            "=================================================================\n",
            "Total params: 445,421\n",
            "Trainable params: 445,421\n",
            "Non-trainable params: 0\n",
            "_________________________________________________________________\n",
            "tracking <tf.Variable 'Variable:0' shape=() dtype=int32> tp\n",
            "tracking <tf.Variable 'Variable_1:0' shape=() dtype=int32> fp\n",
            "tracking <tf.Variable 'Variable_2:0' shape=() dtype=int32> tp\n",
            "tracking <tf.Variable 'Variable_3:0' shape=() dtype=int32> fn\n"
          ],
          "name": "stdout"
        }
      ]
    },
    {
      "cell_type": "code",
      "metadata": {
        "colab": {
          "base_uri": "https://localhost:8080/",
          "height": 35
        },
        "id": "QTC3V5IxT7KD",
        "outputId": "e2e035bc-ccc1-448f-d181-2ec6363dfbf1"
      },
      "source": [
        "tf.__version__"
      ],
      "execution_count": 14,
      "outputs": [
        {
          "output_type": "execute_result",
          "data": {
            "application/vnd.google.colaboratory.intrinsic+json": {
              "type": "string"
            },
            "text/plain": [
              "'1.15.2'"
            ]
          },
          "metadata": {
            "tags": []
          },
          "execution_count": 14
        }
      ]
    },
    {
      "cell_type": "code",
      "metadata": {
        "colab": {
          "base_uri": "https://localhost:8080/"
        },
        "id": "K8IuPhcKGwT5",
        "outputId": "fa8f7df7-d2da-44be-bda9-d8f6c9779069"
      },
      "source": [
        "print(f'Before: {datetime.datetime.now()}')\n",
        "\n",
        "\n",
        "history = model.fit(\n",
        "    x=x_train,\n",
        "    y=y_train,\n",
        "    validation_split=validation_split,\n",
        "    epochs=2,\n",
        "    verbose=1,\n",
        "    shuffle=True,\n",
        "    steps_per_epoch=batch_size,\n",
        "    validation_steps=batch_size,\n",
        "    # callbacks=[\n",
        "    #     keras.callbacks.EarlyStopping(\n",
        "    #         monitor='val_loss', min_delta=0.1\n",
        "    #     )\n",
        "    # ]\n",
        ")\n",
        "\n",
        "print(f'After: {datetime.datetime.now()}')"
      ],
      "execution_count": 15,
      "outputs": [
        {
          "output_type": "stream",
          "text": [
            "Before: 2021-07-06 08:20:25.767378\n",
            "WARNING:tensorflow:From /tensorflow-1.15.2/python3.7/keras/backend/tensorflow_backend.py:422: The name tf.global_variables is deprecated. Please use tf.compat.v1.global_variables instead.\n",
            "\n",
            "Train on 4000 samples, validate on 1000 samples\n",
            "Epoch 1/2\n",
            "100/100 [==============================] - 14s 144ms/step - loss: 1.0320 - accuracy: 0.6644 - precision: 0.7141 - recall: 0.2731 - val_loss: 0.0017 - val_accuracy: 95.8000 - val_precision: 98.7952 - val_recall: 97.6190\n",
            "Epoch 2/2\n",
            "100/100 [==============================] - 13s 131ms/step - loss: 0.1825 - accuracy: 0.9417 - precision: 0.9636 - recall: 0.9450 - val_loss: 6.6897e-04 - val_accuracy: 97.5000 - val_precision: 100.0000 - val_recall: 97.6190\n",
            "After: 2021-07-06 08:20:54.659507\n"
          ],
          "name": "stdout"
        }
      ]
    },
    {
      "cell_type": "markdown",
      "metadata": {
        "id": "usRGCcJRBoYp"
      },
      "source": [
        "### 4. Save model"
      ]
    },
    {
      "cell_type": "code",
      "metadata": {
        "colab": {
          "base_uri": "https://localhost:8080/"
        },
        "id": "dU2LSrtw8dWJ",
        "outputId": "cf404681-fdfa-4216-9cd6-9743efe8aab6"
      },
      "source": [
        "# list all data in history\n",
        "print(history.history.keys())\n",
        "\n",
        "# serialize model to JSON\n",
        "model_json = model.to_json()\n",
        "\n",
        "MODEL_DIR = 'models'\n",
        "create_directory(MODEL_DIR)\n",
        "model_path = os.path.join(MODEL_DIR, f'model_{ML_MODEL}')\n",
        "with open(model_path + '.json','w') as json_file:\n",
        "    json_file.write(model_json)\n",
        "\n",
        "# serialize weights to HDF5\n",
        "model.save_weights(model_path + '.h5')\n",
        "print('Saved model to disk')"
      ],
      "execution_count": 16,
      "outputs": [
        {
          "output_type": "stream",
          "text": [
            "dict_keys(['val_loss', 'val_accuracy', 'val_precision', 'val_recall', 'loss', 'accuracy', 'precision', 'recall'])\n",
            "Saved model to disk\n"
          ],
          "name": "stdout"
        }
      ]
    },
    {
      "cell_type": "markdown",
      "metadata": {
        "id": "FK779-9B-Dvn"
      },
      "source": [
        "### 5. Evaluate model"
      ]
    },
    {
      "cell_type": "code",
      "metadata": {
        "colab": {
          "base_uri": "https://localhost:8080/"
        },
        "id": "rGIDjRzjIcY2",
        "outputId": "a4efa03e-9a33-4afb-8317-e56ba516910d"
      },
      "source": [
        "history.history"
      ],
      "execution_count": 17,
      "outputs": [
        {
          "output_type": "execute_result",
          "data": {
            "text/plain": [
              "{'accuracy': [0.6643575, 0.9416525],\n",
              " 'loss': [1.0319802871346473, 0.18245417557656765],\n",
              " 'precision': [0.714144, 0.96356124],\n",
              " 'recall': [0.2731086, 0.9450272],\n",
              " 'val_accuracy': [95.80000042915344, 97.50000238418579],\n",
              " 'val_loss': [0.0016558951139450074, 0.0006689690798521041],\n",
              " 'val_precision': [98.7952172756195, 100.0],\n",
              " 'val_recall': [97.61899316310883, 97.61899316310883]}"
            ]
          },
          "metadata": {
            "tags": []
          },
          "execution_count": 17
        }
      ]
    },
    {
      "cell_type": "code",
      "metadata": {
        "id": "wuFrdART-j4O"
      },
      "source": [
        "filename = 'cnn_model_statistics'"
      ],
      "execution_count": 18,
      "outputs": []
    },
    {
      "cell_type": "code",
      "metadata": {
        "id": "myaHuYUP-QBt"
      },
      "source": [
        "import matplotlib.pyplot as plt\n",
        "\n",
        "\n",
        "def plot_cnn_model_statistics(title, train, valid, data_name):\n",
        "    \"\"\"\n",
        "    title -> string representing figure title\n",
        "    train -> list of keras values during n epoch on the training set\n",
        "    valid -> list of keras values during n epoch on the validation set\n",
        "    \"\"\"\n",
        "    # summarize history for accuracy\n",
        "    plt.figure(title.capitalize())\n",
        "    plt.plot(train)\n",
        "    plt.plot(valid)\n",
        "    plt.title(f'model {title.lower()}')\n",
        "    plt.ylabel(title.lower())\n",
        "    plt.xlabel('epoch')\n",
        "\n",
        "    plt.legend(['train', 'validation'], loc='upper left')\n",
        "\n",
        "    FIGURES_DIR = 'figures'\n",
        "    plt.show()"
      ],
      "execution_count": 19,
      "outputs": []
    },
    {
      "cell_type": "code",
      "metadata": {
        "colab": {
          "base_uri": "https://localhost:8080/",
          "height": 295
        },
        "id": "OL0LwKFR90ta",
        "outputId": "c84a563e-e2ce-4a25-8c41-fc4a2c763da5"
      },
      "source": [
        "# summarize history for accuracy\n",
        "plot_cnn_model_statistics(\n",
        "    'accuracy',\n",
        "    history.history['accuracy'],\n",
        "    np.array(history.history['val_accuracy']) / 100,\n",
        "    filename\n",
        ")"
      ],
      "execution_count": 20,
      "outputs": [
        {
          "output_type": "display_data",
          "data": {
            "image/png": "[encoded data removed]",
            "text/plain": [
              "<Figure size 432x288 with 1 Axes>"
            ]
          },
          "metadata": {
            "tags": [],
            "needs_background": "light"
          }
        }
      ]
    },
    {
      "cell_type": "code",
      "metadata": {
        "colab": {
          "base_uri": "https://localhost:8080/",
          "height": 295
        },
        "id": "Qi772phW_3hR",
        "outputId": "193c4410-259e-4cea-d6b9-d874a9ed6af6"
      },
      "source": [
        "# summarize history for loss\n",
        "plot_cnn_model_statistics(\n",
        "    'loss',\n",
        "    history.history['loss'],\n",
        "    history.history['val_loss'],\n",
        "    filename\n",
        ")"
      ],
      "execution_count": 21,
      "outputs": [
        {
          "output_type": "display_data",
          "data": {
            "image/png": "[encoded data removed]",
            "text/plain": [
              "<Figure size 432x288 with 1 Axes>"
            ]
          },
          "metadata": {
            "tags": [],
            "needs_background": "light"
          }
        }
      ]
    },
    {
      "cell_type": "markdown",
      "metadata": {
        "id": "0q2BaLjTPog5"
      },
      "source": [
        "## Test"
      ]
    },
    {
      "cell_type": "markdown",
      "metadata": {
        "id": "AWoddh1aP7MW"
      },
      "source": [
        "### Helpers"
      ]
    },
    {
      "cell_type": "code",
      "metadata": {
        "id": "Z4YG8bhcP8US"
      },
      "source": [
        "def get_test_data():\n",
        "    \"\"\"\n",
        "    Returns tuple containing features and labels for test data.\n",
        "    \"\"\"\n",
        "    file = h5py.File(os.path.join(\n",
        "        PROCESSED_DATA_DIR, 'processed_data.hdf5'), 'r')\n",
        "\n",
        "    return (\n",
        "        file['x_test'],\n",
        "        file['y_test'],\n",
        "    )"
      ],
      "execution_count": 22,
      "outputs": []
    },
    {
      "cell_type": "markdown",
      "metadata": {
        "id": "ekr0IndORVi5"
      },
      "source": [
        "### 1. Load data"
      ]
    },
    {
      "cell_type": "code",
      "metadata": {
        "colab": {
          "base_uri": "https://localhost:8080/"
        },
        "id": "jimS2Lk-QBuu",
        "outputId": "fcb2d61e-e143-445c-ccc4-e66b1e7fe4c4"
      },
      "source": [
        "x_test, y_test = get_test_data()\n",
        "# x_test = x_test[:keep_value]\n",
        "# y_test = y_test[:keep_value]\n",
        "n_rows, n_cols = x_test.shape\n",
        "x_test.shape"
      ],
      "execution_count": 23,
      "outputs": [
        {
          "output_type": "execute_result",
          "data": {
            "text/plain": [
              "(5658, 441)"
            ]
          },
          "metadata": {
            "tags": []
          },
          "execution_count": 23
        }
      ]
    },
    {
      "cell_type": "code",
      "metadata": {
        "id": "anGKLjBfQpiu"
      },
      "source": [
        "x_test = np.expand_dims(x_test, axis=2)"
      ],
      "execution_count": 24,
      "outputs": []
    },
    {
      "cell_type": "code",
      "metadata": {
        "colab": {
          "base_uri": "https://localhost:8080/"
        },
        "id": "AXh8OlQhQRgg",
        "outputId": "0be0860c-cb6d-4b8a-aed9-674173eec8a8"
      },
      "source": [
        "class_labels = [\n",
        "    # mala tones\n",
        "    'm5',\n",
        "    'm4',\n",
        "    'm3',\n",
        "    'm2',\n",
        "    'm1',\n",
        "    'm0',\n",
        "    # vela tones\n",
        "    'v5',\n",
        "    'v4',\n",
        "    'v3',\n",
        "    'v2',\n",
        "    'v1',\n",
        "    'v0',\n",
        "    'vv_silence' # pause\n",
        "]\n",
        "\n",
        "class_labels.sort()\n",
        "class_labels = [\n",
        "    label.replace('vv_', '').replace(\n",
        "        'silence', 'blank') for label in class_labels\n",
        "]\n",
        "class_labels"
      ],
      "execution_count": 25,
      "outputs": [
        {
          "output_type": "execute_result",
          "data": {
            "text/plain": [
              "['m0',\n",
              " 'm1',\n",
              " 'm2',\n",
              " 'm3',\n",
              " 'm4',\n",
              " 'm5',\n",
              " 'v0',\n",
              " 'v1',\n",
              " 'v2',\n",
              " 'v3',\n",
              " 'v4',\n",
              " 'v5',\n",
              " 'blank']"
            ]
          },
          "metadata": {
            "tags": []
          },
          "execution_count": 25
        }
      ]
    },
    {
      "cell_type": "markdown",
      "metadata": {
        "id": "qOAv92eHRY_t"
      },
      "source": [
        "### 2. Load model"
      ]
    },
    {
      "cell_type": "code",
      "metadata": {
        "id": "9Kh48VnAQeIB",
        "colab": {
          "base_uri": "https://localhost:8080/"
        },
        "outputId": "2ca2ab93-3b5c-4696-b6b7-784cd0d802d3"
      },
      "source": [
        "from keras.models import model_from_json\n",
        "\n",
        "\n",
        "# load the model we saved\n",
        "with open(os.path.join(MODEL_DIR, f'model_{ML_MODEL}.json'), 'r') as f:\n",
        "    model = model_from_json(f.read())\n",
        "\n",
        "# load the model weights\n",
        "model.load_weights(os.path.join(MODEL_DIR, f'model_{ML_MODEL}.h5'))\n",
        "model.compile(\n",
        "    loss=keras.losses.categorical_crossentropy,\n",
        "    optimizer=keras.optimizers.Adadelta(),\n",
        "    metrics=['accuracy', precision(), recall()]\n",
        ")"
      ],
      "execution_count": 26,
      "outputs": [
        {
          "output_type": "stream",
          "text": [
            "tracking <tf.Variable 'Variable_4:0' shape=() dtype=int32> tp\n",
            "tracking <tf.Variable 'Variable_5:0' shape=() dtype=int32> fp\n",
            "tracking <tf.Variable 'Variable_6:0' shape=() dtype=int32> tp\n",
            "tracking <tf.Variable 'Variable_7:0' shape=() dtype=int32> fn\n"
          ],
          "name": "stdout"
        }
      ]
    },
    {
      "cell_type": "markdown",
      "metadata": {
        "id": "HTpp7zEJRgiv"
      },
      "source": [
        "### 3. Get value metrics"
      ]
    },
    {
      "cell_type": "code",
      "metadata": {
        "id": "2rvcCvwkRIPZ",
        "colab": {
          "base_uri": "https://localhost:8080/"
        },
        "outputId": "3abafdad-d674-44c7-c7f2-f0b4ecc5cd06"
      },
      "source": [
        "from sklearn.metrics import accuracy_score, confusion_matrix, \\\n",
        "    precision_score, recall_score\n",
        "import itertools\n",
        "\n",
        "\n",
        "true_classes = y_test\n",
        "\n",
        "predicted_classes = model.predict(x_test, batch_size=20)\n",
        "predicted_classes = np.argmax(predicted_classes, axis=1)\n",
        "\n",
        "test_accuracy = accuracy_score(true_classes, predicted_classes)\n",
        "test_precision = precision_score(\n",
        "    true_classes, predicted_classes, average='macro')\n",
        "test_recall = recall_score(true_classes, predicted_classes, average='macro')\n",
        "\n",
        "metrics_dict = {\n",
        "    'acc_test': test_accuracy,\n",
        "    'precision_test': test_precision,\n",
        "    'recall_test': test_recall\n",
        "}\n",
        "print(metrics_dict)"
      ],
      "execution_count": 27,
      "outputs": [
        {
          "output_type": "stream",
          "text": [
            "{'acc_test': 0.9736656062212796, 'precision_test': 0.9752993120165162, 'recall_test': 0.9746273060678559}\n"
          ],
          "name": "stdout"
        }
      ]
    },
    {
      "cell_type": "markdown",
      "metadata": {
        "id": "J_JOEyehRRvJ"
      },
      "source": [
        "### 4. Confusion matrix"
      ]
    },
    {
      "cell_type": "code",
      "metadata": {
        "id": "txn2JalKRnQS"
      },
      "source": [
        "def plot_confusion_matrix(cm, classes, matrix_name, normalize=False, title='', cmap=plt.cm.Blues):\n",
        "    \"\"\"\n",
        "    This function prints and plots the confusion matrix.\n",
        "    Normalization can be applied by setting `normalize=True`.\n",
        "\n",
        "    Code is taken from scikit-learn.org example.\n",
        "    \"\"\"\n",
        "    if normalize:\n",
        "        cm = cm.astype('float') / cm.sum(axis=1)[:, np.newaxis]\n",
        "        print(\"Normalized confusion matrix\")\n",
        "    else:\n",
        "        print('Confusion matrix, without normalization')\n",
        "\n",
        "    print(cm)\n",
        "\n",
        "    fig = plt.figure(\"Confusion matrix\")\n",
        "    fig.set_size_inches(22, 22)\n",
        "\n",
        "    plt.imshow(cm, interpolation='nearest', cmap=cmap)\n",
        "    plt.title(title)\n",
        "    plt.colorbar()\n",
        "    tick_marks = np.arange(len(classes))\n",
        "    plt.xticks(tick_marks, classes, rotation=45)\n",
        "    plt.yticks(tick_marks, classes)\n",
        "\n",
        "    fmt = '.2f' if normalize else 'd'\n",
        "    thresh = cm.max() / 2.\n",
        "    for i, j in itertools.product(range(cm.shape[0]), range(cm.shape[1])):\n",
        "        plt.text(\n",
        "            j, i,\n",
        "            format(cm[i, j], fmt),\n",
        "            horizontalalignment=\"center\",\n",
        "            color=\"white\" if cm[i, j] > thresh else \"black\"\n",
        "        )\n",
        "\n",
        "    plt.ylabel('True label')\n",
        "    plt.xlabel('Predicted label')\n",
        "    plt.tight_layout()\n",
        "\n",
        "    plt.show()"
      ],
      "execution_count": 28,
      "outputs": []
    },
    {
      "cell_type": "code",
      "metadata": {
        "id": "XwgRZA5tQPfD",
        "colab": {
          "base_uri": "https://localhost:8080/",
          "height": 1000
        },
        "outputId": "895fb331-503f-4120-fd13-8d6a19bc90d1"
      },
      "source": [
        "cm = confusion_matrix(true_classes, predicted_classes)\n",
        "plot_confusion_matrix(cm, class_labels, ML_MODEL)"
      ],
      "execution_count": 29,
      "outputs": [
        {
          "output_type": "stream",
          "text": [
            "Confusion matrix, without normalization\n",
            "[[443   7   0   0   0   0   0   0   0   1   0   0   0]\n",
            " [  0 476   0   0   0   0   0   0   0   2   0   0   0]\n",
            " [  0   0 430   0   0   0   0   0   0   0   1   0   0]\n",
            " [  0   0   0 405   1   0   0   3   0   0   0   1   0]\n",
            " [  0   0   0   0 404   2   0   1   0   0   0   0   0]\n",
            " [  0   0   0   2   0 428   0   0   0   0   0   0   0]\n",
            " [  0   0   0   0   0   0 403   0   0   0   0   0   0]\n",
            " [  1   0   0   1   0   2   0 450   0   0   0   0   0]\n",
            " [  0   0   0   0   0   0   0   0 404   0   0   0   1]\n",
            " [  0   1   0   0   0   1   2   0   0 450   4   0   2]\n",
            " [  0   0   2   0   0   0  14   5   0  56 357  24   0]\n",
            " [  0   0   2   0   0   0   1   9   0   0   0 419   0]\n",
            " [  0   0   0   0   0   0   0   0   0   0   0   0 440]]\n"
          ],
          "name": "stdout"
        },
        {
          "output_type": "display_data",
          "data": {
            "image/png": "[encoded data removed]",
            "text/plain": [
              "<Figure size 1584x1584 with 2 Axes>"
            ]
          },
          "metadata": {
            "tags": [],
            "needs_background": "light"
          }
        }
      ]
    }
  ]
}